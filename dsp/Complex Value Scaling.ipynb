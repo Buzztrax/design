{
 "cells": [
  {
   "cell_type": "code",
   "execution_count": 2,
   "metadata": {},
   "outputs": [
    {
     "name": "stdout",
     "output_type": "stream",
     "text": [
      "Populating the interactive namespace from numpy and matplotlib\n"
     ]
    }
   ],
   "source": [
    "%pylab inline\n",
    "import math"
   ]
  },
  {
   "cell_type": "markdown",
   "metadata": {},
   "source": [
    "Test scaling of spectral values. We can directly scale .r and .i instead of calculating magnitude and phase. This avoids trouble with atan2() computations which are sensitive to float precission."
   ]
  },
  {
   "cell_type": "code",
   "execution_count": 3,
   "metadata": {},
   "outputs": [],
   "source": [
    "def scale(r,i,f):\n",
    "    m = math.sqrt(r*r+i*i)\n",
    "    p = math.atan2(i,r)\n",
    "    print \"%5.3f, %5.3f\" % (f * m * math.cos(p), f * m * math.sin(p))\n",
    "    print \"%5.3f, %5.3f\" % (f * r, f * i)"
   ]
  },
  {
   "cell_type": "code",
   "execution_count": 4,
   "metadata": {},
   "outputs": [
    {
     "name": "stdout",
     "output_type": "stream",
     "text": [
      "2.000, 2.000\n",
      "2.000, 2.000\n"
     ]
    }
   ],
   "source": [
    "scale(1,1,2)"
   ]
  },
  {
   "cell_type": "code",
   "execution_count": 5,
   "metadata": {},
   "outputs": [
    {
     "name": "stdout",
     "output_type": "stream",
     "text": [
      "2.000, 0.000\n",
      "2.000, 0.000\n"
     ]
    }
   ],
   "source": [
    "scale(1,0,2)"
   ]
  },
  {
   "cell_type": "code",
   "execution_count": 6,
   "metadata": {},
   "outputs": [
    {
     "name": "stdout",
     "output_type": "stream",
     "text": [
      "2.000, -2.000\n",
      "2.000, -2.000\n"
     ]
    }
   ],
   "source": [
    "scale(1,-1,2)"
   ]
  },
  {
   "cell_type": "code",
   "execution_count": 7,
   "metadata": {},
   "outputs": [
    {
     "name": "stdout",
     "output_type": "stream",
     "text": [
      "0.000, 2.000\n",
      "0.000, 2.000\n"
     ]
    }
   ],
   "source": [
    "scale(0,1,2)"
   ]
  },
  {
   "cell_type": "code",
   "execution_count": null,
   "metadata": {},
   "outputs": [],
   "source": []
  }
 ],
 "metadata": {
  "kernelspec": {
   "display_name": "Python 3",
   "language": "python",
   "name": "python3"
  },
  "language_info": {
   "codemirror_mode": {
    "name": "ipython",
    "version": 3
   },
   "file_extension": ".py",
   "mimetype": "text/x-python",
   "name": "python",
   "nbconvert_exporter": "python",
   "pygments_lexer": "ipython3",
   "version": "3.6.8"
  }
 },
 "nbformat": 4,
 "nbformat_minor": 1
}
