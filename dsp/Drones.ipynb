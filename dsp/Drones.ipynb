{
 "cells": [
  {
   "cell_type": "code",
   "execution_count": 143,
   "metadata": {},
   "outputs": [
    {
     "name": "stdout",
     "output_type": "stream",
     "text": [
      "Populating the interactive namespace from numpy and matplotlib\n"
     ]
    }
   ],
   "source": [
    "%pylab inline\n",
    "from scipy import signal\n",
    "import math\n",
    "import numpy as np\n",
    "pylab.rcParams['figure.figsize'] = (16, 6)\n",
    "pylab.rcParams[\"font.size\"] = \"14\"\n",
    "import IPython.display as ipd\n",
    "from ipywidgets import interact, fixed\n",
    "import ipywidgets as widgets\n",
    "\n",
    "# settings\n",
    "SRATE = 22050\n",
    "\n",
    "# note names to freq for widgets\n",
    "notes = 'C-,C#,D-,D#-,E-,F-,F#,G-,G#,A-,A#,B-,C-'.split(',')\n",
    "notes = [n + str(o) for o in range(1,5) for n in notes]\n",
    "freqs = 55. * 2**(np.arange(3, 3 + len(notes)) / 12.)\n",
    "notes = list(zip(notes, freqs))\n",
    "#print(notes)"
   ]
  },
  {
   "cell_type": "code",
   "execution_count": 144,
   "metadata": {},
   "outputs": [],
   "source": [
    "def display_wave(a, t, srat=SRATE):\n",
    "    figure(1)\n",
    "    # waveform\n",
    "    plot(t, a)\n",
    "    xlabel('Time (s)')\n",
    "    grid(True)\n",
    "    margins(0.0)\n",
    "\n",
    "    plt.show()\n",
    "\n",
    "    # audio player\n",
    "    ipd.display(ipd.Audio(a, rate=srat))"
   ]
  },
  {
   "cell_type": "code",
   "execution_count": 145,
   "metadata": {},
   "outputs": [],
   "source": [
    "def drones(frq, ticks, bpm, tpb, voices=2, srat=SRATE):\n",
    "    # TODO: add cycle_inc parameter\n",
    "    # TODO: let user choose waveform (sin?, saw, sqr)\n",
    "    # TODO: make stereo and spread voices\n",
    "    # TODO: other combine modes (AM?)\n",
    "    \n",
    "    # from ticks and samplerate we calculate the number of samples for desired resync.   \n",
    "    # ticks per second\n",
    "    tps = (bpm * tpb) / 60.0\n",
    "    # samples per tick\n",
    "    spt = srat / tps\n",
    "    dur = ticks * spt\n",
    "    \n",
    "    print(\"Duration samples: %f\" %  dur)\n",
    "    \n",
    "    # from the tone frequency we can check what the phase would be at the point of resync.\n",
    "    # frq = 110 hz\n",
    "    # samples_per_cycle = srat / frq\n",
    "    spc = srat / frq\n",
    "    # we round this to end with phase=0 at the end of the loop\n",
    "    # TODO: do a table with the error for the whole tone range and various bpms\n",
    "    num_cycles = round(dur / spc)\n",
    "    print(\"Num cycles (rounded): %f\" %  num_cycles)\n",
    "    frqs=[]\n",
    "    for v in range(voices):\n",
    "        frqs.append(srat / (dur / num_cycles))\n",
    "        num_cycles +=1\n",
    "    \n",
    "    print(\"Frq error: \", abs(frq - frqs[0]))\n",
    "    print(\"Frqs: \", *frqs)\n",
    "\n",
    "    twopi = 2.0 * np.pi\n",
    "    t = np.linspace(0, dur/srat, int(dur))\n",
    "    a = np.zeros(len(t))\n",
    "    for v in range(voices):\n",
    "        #a += np.sin(t * twopi * frqs[v])\n",
    "        a += signal.sawtooth(t * twopi * frqs[v])\n",
    "    \n",
    "    display_wave(a, t)"
   ]
  },
  {
   "cell_type": "code",
   "execution_count": 148,
   "metadata": {},
   "outputs": [
    {
     "data": {
      "application/vnd.jupyter.widget-view+json": {
       "model_id": "24c460b8f8fe42b7a76063d1d38ba961"
      }
     },
     "metadata": {},
     "output_type": "display_data"
    },
    {
     "data": {
      "text/plain": [
       "<function __main__.drones>"
      ]
     },
     "execution_count": 148,
     "metadata": {},
     "output_type": "execute_result"
    }
   ],
   "source": [
    "interact(drones, \n",
    "         frq=notes, \n",
    "         ticks=widgets.IntSlider(min=1, max=256, step=1, value=16, continuous_update=False), \n",
    "         bpm=widgets.IntSlider(min=60, max=300, step=1, value=125, continuous_update=False), \n",
    "         tpb=widgets.IntSlider(min=1, max=16, step=1, value=4, continuous_update=False),\n",
    "         voices=widgets.IntSlider(min=1, max=10, step=1, value=3),\n",
    "         srat=fixed(SRATE))"
   ]
  },
  {
   "cell_type": "code",
   "execution_count": null,
   "metadata": {},
   "outputs": [],
   "source": []
  }
 ],
 "metadata": {
  "kernelspec": {
   "display_name": "Python 3",
   "language": "python",
   "name": "python3"
  },
  "language_info": {
   "codemirror_mode": {
    "name": "ipython",
    "version": 3
   },
   "file_extension": ".py",
   "mimetype": "text/x-python",
   "name": "python",
   "nbconvert_exporter": "python",
   "pygments_lexer": "ipython3",
   "version": "3.6.8"
  }
 },
 "nbformat": 4,
 "nbformat_minor": 2
}
