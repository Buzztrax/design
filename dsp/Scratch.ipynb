{
 "cells": [
  {
   "cell_type": "code",
   "execution_count": 1,
   "metadata": {
    "collapsed": false
   },
   "outputs": [
    {
     "name": "stdout",
     "output_type": "stream",
     "text": [
      "Populating the interactive namespace from numpy and matplotlib\n"
     ]
    }
   ],
   "source": [
    "%pylab inline\n",
    "from scipy import signal\n",
    "import math"
   ]
  },
  {
   "cell_type": "code",
   "execution_count": 10,
   "metadata": {
    "collapsed": false
   },
   "outputs": [
    {
     "name": "stdout",
     "output_type": "stream",
     "text": [
      "[ 0.  0.  0.]\n",
      "[ 0.          0.         -0.78539816]\n"
     ]
    }
   ],
   "source": [
    "s1 = np.array([1.0, 1.0j, 1+1j])\n",
    "s2 = np.array([0.5, 0.5j, 0])\n",
    "p1 = np.angle(s2/s1)\n",
    "p2 = np.angle(s2) - np.angle(s1)\n",
    "print p1\n",
    "print p2"
   ]
  },
  {
   "cell_type": "code",
   "execution_count": 9,
   "metadata": {
    "collapsed": false
   },
   "outputs": [
    {
     "name": "stdout",
     "output_type": "stream",
     "text": [
      "[ 1.00000000+0.j          1.00000000+0.j          0.70710678-0.70710678j]\n",
      "[ 1.00000000+0.j          1.00000000+0.j          0.70710678-0.70710678j]\n"
     ]
    }
   ],
   "source": [
    "o1 = zeros(p2.size, dtype=complex)\n",
    "o1.real, o1.imag = cos(p2), sin(p2)\n",
    "o2 = np.exp(1j * p2)\n",
    "print o1\n",
    "print o2"
   ]
  },
  {
   "cell_type": "code",
   "execution_count": null,
   "metadata": {
    "collapsed": false
   },
   "outputs": [],
   "source": []
  }
 ],
 "metadata": {
  "kernelspec": {
   "display_name": "Python 3",
   "language": "python",
   "name": "python3"
  },
  "language_info": {
   "codemirror_mode": {
    "name": "ipython",
    "version": 3
   },
   "file_extension": ".py",
   "mimetype": "text/x-python",
   "name": "python",
   "nbconvert_exporter": "python",
   "pygments_lexer": "ipython3",
   "version": "3.5.3"
  }
 },
 "nbformat": 4,
 "nbformat_minor": 0
}
