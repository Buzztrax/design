{
 "metadata": {
  "name": ""
 },
 "nbformat": 3,
 "nbformat_minor": 0,
 "worksheets": [
  {
   "cells": [
    {
     "cell_type": "code",
     "collapsed": false,
     "input": [
      "%pylab inline\n",
      "from scipy import signal\n",
      "import math"
     ],
     "language": "python",
     "metadata": {},
     "outputs": [
      {
       "output_type": "stream",
       "stream": "stdout",
       "text": [
        "Populating the interactive namespace from numpy and matplotlib\n"
       ]
      }
     ],
     "prompt_number": 1
    },
    {
     "cell_type": "code",
     "collapsed": false,
     "input": [
      "s1 = np.array([1.0, 1.0j, 1+1j])\n",
      "s2 = np.array([0.5, 0.5j, 0])\n",
      "p1 = np.angle(s2/s1)\n",
      "p2 = np.angle(s2) - np.angle(s1)\n",
      "print p1\n",
      "print p2"
     ],
     "language": "python",
     "metadata": {},
     "outputs": [
      {
       "output_type": "stream",
       "stream": "stdout",
       "text": [
        "[ 0.  0.  0.]\n",
        "[ 0.          0.         -0.78539816]\n"
       ]
      }
     ],
     "prompt_number": 10
    },
    {
     "cell_type": "code",
     "collapsed": false,
     "input": [
      "o1 = zeros(p2.size, dtype=complex)\n",
      "o1.real, o1.imag = cos(p2), sin(p2)\n",
      "o2 = np.exp(1j * p2)\n",
      "print o1\n",
      "print o2"
     ],
     "language": "python",
     "metadata": {},
     "outputs": [
      {
       "output_type": "stream",
       "stream": "stdout",
       "text": [
        "[ 1.00000000+0.j          1.00000000+0.j          0.70710678-0.70710678j]\n",
        "[ 1.00000000+0.j          1.00000000+0.j          0.70710678-0.70710678j]\n"
       ]
      }
     ],
     "prompt_number": 9
    },
    {
     "cell_type": "code",
     "collapsed": false,
     "input": [],
     "language": "python",
     "metadata": {},
     "outputs": []
    }
   ],
   "metadata": {}
  }
 ]
}